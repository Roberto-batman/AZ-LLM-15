{
 "cells": [
  {
   "cell_type": "code",
   "execution_count": null,
   "metadata": {},
   "outputs": [],
   "source": [
    "#  after setting up virtual environment (python3 -m venv .venv)\n",
    "# then activate it (source .venv/bin/activate)\n",
    "# then manually install these modules:\n",
    "# pip install python-dotenv streamlit langchain langchain-core langchain-community langchain-openai langchain-anthropic chromadb==0.5.3 langchain-chroma docx2txt pypdf bs4 ipykernel\n",
    "\n",
    "# to create requirements.txt file use pip freeze > requirements.txt\n",
    "# this command could be used to install other modules\n",
    "# pip install -r requirements.txt --no-cache-dir\n",
    "\n",
    "#manually add pysqlite3-binary to \n"
   ]
  },
  {
   "cell_type": "code",
   "execution_count": 3,
   "metadata": {},
   "outputs": [
    {
     "data": {
      "text/plain": [
       "True"
      ]
     },
     "execution_count": 3,
     "metadata": {},
     "output_type": "execute_result"
    }
   ],
   "source": [
    "import os\n",
    "import dotenv\n",
    "from pathlib import Path\n",
    "from dotenv import load_dotenv  # new addition\n",
    "\n",
    "from langchain_core.messages import AIMessage, HumanMessage\n",
    "from langchain_community.document_loaders.text import TextLoader\n",
    "from langchain_community.document_loaders import (\n",
    "    WebBaseLoader, \n",
    "    PyPDFLoader, \n",
    "    Docx2txtLoader,\n",
    ")\n",
    "from langchain_community.vectorstores import Chroma\n",
    "from langchain.text_splitter import RecursiveCharacterTextSplitter\n",
    "from langchain_openai import OpenAIEmbeddings, ChatOpenAI\n",
    "from langchain_anthropic import ChatAnthropic\n",
    "from langchain_core.prompts import ChatPromptTemplate, MessagesPlaceholder\n",
    "from langchain.chains import create_history_aware_retriever, create_retrieval_chain\n",
    "from langchain.chains.combine_documents import create_stuff_documents_chain\n",
    "\n",
    "dotenv.load_dotenv()"
   ]
  },
  {
   "cell_type": "code",
   "execution_count": 4,
   "metadata": {},
   "outputs": [],
   "source": [
    "# Load docs\n",
    "\n",
    "doc_paths = [\n",
    "    \"docs/test_rag.pdf\",\n",
    "    \"docs/test_rag.docx\",\n",
    "]\n",
    "\n",
    "docs = [] \n",
    "for doc_file in doc_paths:\n",
    "    file_path = Path(doc_file)\n",
    "\n",
    "    try:\n",
    "        if doc_file.endswith(\".pdf\"):\n",
    "            loader = PyPDFLoader(file_path)\n",
    "        elif doc_file.endswith(\".docx\"):\n",
    "            loader = Docx2txtLoader(file_path)\n",
    "        elif doc_file.endswith(\".txt\") or doc_file.name.endswith(\".md\"):\n",
    "            loader = TextLoader(file_path)\n",
    "        else:\n",
    "            print(f\"Document type {doc_file.type} not supported.\")\n",
    "            continue\n",
    "\n",
    "        docs.extend(loader.load())\n",
    "\n",
    "    except Exception as e:\n",
    "        print(f\"Error loading document {doc_file.name}: {e}\")\n",
    "\n",
    "\n",
    "# Load URLs\n",
    "\n",
    "url = \"https://docs.streamlit.io/develop/quick-reference/release-notes\"\n",
    "try:\n",
    "    loader = WebBaseLoader(url)\n",
    "    docs.extend(loader.load())\n",
    "\n",
    "except Exception as e:\n",
    "    print(f\"Error loading document from {url}: {e}\")"
   ]
  },
  {
   "cell_type": "code",
   "execution_count": 5,
   "metadata": {},
   "outputs": [
    {
     "data": {
      "text/plain": [
       "[Document(metadata={'producer': 'Microsoft® Word for Microsoft 365', 'creator': 'Microsoft® Word for Microsoft 365', 'creationdate': '2024-09-15T19:40:36+02:00', 'msip_label_1cf2ba15-c468-47c8-b178-cba8acf110ec_siteid': 'eb25818e-5bd5-49bf-99de-53e3e7b42630', 'msip_label_1cf2ba15-c468-47c8-b178-cba8acf110ec_method': 'Standard', 'msip_label_1cf2ba15-c468-47c8-b178-cba8acf110ec_enabled': 'True', 'author': 'Domingo Domènech Enric (ERNI)', 'moddate': '2024-09-15T19:40:36+02:00', 'source': 'docs/test_rag.pdf', 'total_pages': 1, 'page': 0, 'page_label': '1'}, page_content='My favorite food is margarita pizza. \\nThere are 47588 bottles in the truck.'),\n",
       " Document(metadata={'source': 'docs/test_rag.docx'}, page_content='My favorite food is margarita pizza.\\n\\nThere are 47588 bottles in the truck.'),\n",
       " Document(metadata={'source': 'https://docs.streamlit.io/develop/quick-reference/release-notes', 'title': 'Release notes - Streamlit Docs', 'description': 'A changelog of highlights and fixes for each version of Streamlit.', 'language': 'No language found.'}, page_content='Release notes - Streamlit DocsDocumentationsearchSearchrocket_launchGet startedInstallationaddFundamentalsaddFirst stepsaddcodeDevelopConceptsaddAPI referenceaddTutorialsaddQuick referenceremoveCheat sheetRelease notesremove2025202420232022202120202019Pre-release featuresRoadmapopen_in_newweb_assetDeployConceptsaddStreamlit Community CloudaddSnowflakeOther platformsaddschoolKnowledge baseFAQInstalling dependenciesDeployment issuesHome/Develop/Quick reference/Release notesRelease notes\\nThis page lists highlights, bug fixes, and known issues for the latest release of Streamlit. If you\\'re looking for information about nightly releases or experimental features, see Pre-release features.\\nUpgrade Streamlit\\nstarTipTo upgrade to the latest version of Streamlit, run:pip install --upgrade streamlit\\n\\nVersion 1.43.0 (latest)\\nRelease date: March 4, 2025\\nHighlights\\n\\n📁\\xa0Announcing the option to accept files with st.chat_input!\\n📒 Introducing a new column type for column configuration! Use JsonColumn to show JSON-compatible objects.\\n\\nNotable Changes\\n\\n🏃\\xa0You can prevent st.download_button from triggering a rerun by setting on_click=\"ignore\" (#10296, #4382).\\n🕑\\xa0You can access a user\\'s timezone and timezone offset through st.context (#10336).\\n↕️\\xa0You can configure the row height in st.dataframe and st.data_editor with a new parameter (#9549, #7266, #8632, #5386).\\n💅\\xa0st.dataframe and st.data_editor use use_container_width=True by default (#10434).\\n🤏\\xa0Markdown has a small text directive (#10487, #10486).\\n🧵\\xa0You can pass strings, paths, and callables to st.navigation in place of StreamlitPage objects for convenience (#10358, #10069). Thanks, ashm-dev!\\n📈\\xa0Streamlit has a new custom component, streamlit-bokeh, to support the latest version of Bokeh (#10374, #5858).\\n🔣\\xa0NumberColumn, ProgressColumn, DatetimeColumn, DateColumn, and TimeColumn have preconfigured format options for ease of use (#10179, #8788, #7702).\\n🛎️\\xa0Static file serving supports files with JSON, XML, and common font file extensions. (#10417,\\xa0#10335,\\xa0#10337,\\xa0#10302).\\n\\nOther Changes\\n\\n🥷\\xa0Users can hide dataframe columns (#10264, #6870).\\n📅\\xa0Users can change the format of numbers, dates, and times in dataframes (#10420).\\n↔️\\xa0Users can auto-size column widths (#10476).\\n🐻\\u200d❄️\\xa0Streamlit supports Polars dataframe and series hashing (#10408, #10347).\\n☠️\\xa0rich is no longer a required dependency for Streamlit (#10320).\\n🦋\\xa0st.file_uploader has a better display format in narrow containers (#10272).\\n🦎\\xa0Bug fix: Tabs are prevented from having a width of zero to prevent flickering (#10533).\\n🐌\\xa0Bug fix: Column order is correctly displayed when set in column configuration (#10445, #10442).\\n🕸️\\xa0Bug fix: We updated dataframe null handling to prevent deprecation warnings (#10484).\\n🦗\\xa0Bug fix: Elapsed time doesn\\'t overflow for st.audio_input (#10410, #10373). Thanks, ashm-dev!\\n🦂\\xa0Bug fix: st.altair_chart does not show an incorrect \"true\" tooltip when the user makes a selection (#10456, #10448).\\n🦟\\xa0Bug fix: Streamlit does not raise a RuntimeError when an asyncio event loop is not already running (#10455, #10452).\\n🦠\\xa0Bug fix: The key for an internal MIME type is set correctly to avoid a browser warning (#10404).\\n🪰\\xa0Bug fix: st.data_editor automatically scrolls to the bottom when a user adds a row (#10405, #10351).\\n🪳\\xa0Bug fix: Tooltips are suppressed on user-added rows in st.data_editor to prevent erroneous warnings (#10398).\\n🕷️\\xa0Bug fix: st.logo displays consistently when used with fragments and dialogs (#10377, #10350, #10382).\\n🐞\\xa0Bug fix: st.graphviz_chart has rounded corners for consistent style (#10224).\\n🐝\\xa0Bug fix: Streamlit raises a clear exception when an underscore is used in provider for st.login (#10360, #10356).\\n🐜\\xa0Bug fix: The dataframe column menu displays correctly inside dialogs (#10359, #10357).\\n🪲\\xa0Bug fix: Exception handling was adjusted for improved compatibility with Cython (#10354, #10353). Thanks, tutu-sol!\\n🐛\\xa0Bug fix: st.pills and st.segmented_control have consistent font sizes across browsers (#10349).\\n\\nOlder versions of Streamlit\\n\\n2025 release notes\\n2024 release notes\\n2023 release notes\\n2022 release notes\\n2021 release notes\\n2020 release notes\\n2019 release notes\\nPrevious: Cheat sheetNext: 2025forumStill have questions?Our forums are full of helpful information and Streamlit experts.HomeContact UsCommunity© 2025 Snowflake Inc.Cookie policyforum Ask AI')]"
      ]
     },
     "execution_count": 5,
     "metadata": {},
     "output_type": "execute_result"
    }
   ],
   "source": [
    "docs"
   ]
  },
  {
   "cell_type": "code",
   "execution_count": 6,
   "metadata": {},
   "outputs": [],
   "source": [
    "# Split docs\n",
    "\n",
    "text_splitter = RecursiveCharacterTextSplitter(\n",
    "    chunk_size=5000,\n",
    "    chunk_overlap=1000,\n",
    ")\n",
    "\n",
    "document_chunks = text_splitter.split_documents(docs)"
   ]
  },
  {
   "cell_type": "code",
   "execution_count": 7,
   "metadata": {},
   "outputs": [],
   "source": [
    "# Tokenize and load the documents to the vector store\n",
    "\n",
    "vector_db = Chroma.from_documents(\n",
    "    documents=document_chunks,\n",
    "    embedding=OpenAIEmbeddings(),\n",
    ")"
   ]
  },
  {
   "cell_type": "code",
   "execution_count": 9,
   "metadata": {},
   "outputs": [],
   "source": [
    "# Retrieve\n",
    "\n",
    "def _get_context_retriever_chain(vector_db, llm):\n",
    "    retriever = vector_db.as_retriever()\n",
    "    prompt = ChatPromptTemplate.from_messages([\n",
    "        MessagesPlaceholder(variable_name=\"messages\"),\n",
    "        (\"user\", \"{input}\"),\n",
    "        (\"user\", \"Given the above conversation, generate a search query to look up in order to get inforamtion relevant to the conversation, focusing on the most recent messages.\"),\n",
    "    ])\n",
    "    retriever_chain = create_history_aware_retriever(llm, retriever, prompt)\n",
    "\n",
    "    return retriever_chain"
   ]
  },
  {
   "cell_type": "code",
   "execution_count": 10,
   "metadata": {},
   "outputs": [],
   "source": [
    "def get_conversational_rag_chain(llm):\n",
    "    retriever_chain = _get_context_retriever_chain(vector_db, llm)\n",
    "\n",
    "    prompt = ChatPromptTemplate.from_messages([\n",
    "        (\"system\",\n",
    "        \"\"\"You are a helpful assistant. You will have to answer to user's queries.\n",
    "        You will have some context to help with your answers, but now always would be completely related or helpful.\n",
    "        You can also use your knowledge to assist answering the user's queries.\\n\n",
    "        {context}\"\"\"),\n",
    "        MessagesPlaceholder(variable_name=\"messages\"),\n",
    "        (\"user\", \"{input}\"),\n",
    "    ])\n",
    "    stuff_documents_chain = create_stuff_documents_chain(llm, prompt)\n",
    "\n",
    "    return create_retrieval_chain(retriever_chain, stuff_documents_chain)"
   ]
  },
  {
   "cell_type": "code",
   "execution_count": 11,
   "metadata": {},
   "outputs": [
    {
     "name": "stderr",
     "output_type": "stream",
     "text": [
      "Number of requested results 4 is greater than number of elements in index 3, updating n_results = 3\n"
     ]
    },
    {
     "name": "stdout",
     "output_type": "stream",
     "text": [
      "The latest version of Streamlit is 1.43.0, released on March 4, 2025."
     ]
    }
   ],
   "source": [
    "# Augmented Generation\n",
    "\n",
    "llm_stream_openai = ChatOpenAI(\n",
    "    model=\"gpt-4o\",  # Here you could use \"o1-preview\" or \"o1-mini\" if you already have access to them\n",
    "    temperature=0.3,\n",
    "    streaming=True,\n",
    ")\n",
    "\n",
    "llm_stream_anthropic = ChatAnthropic(\n",
    "    model=\"claude-3-5-sonnet-20240620\",\n",
    "    temperature=0.3,\n",
    "    streaming=True,\n",
    ")\n",
    "\n",
    "llm_stream = llm_stream_openai  # Select between OpenAI and Anthropic models for the response\n",
    "\n",
    "messages = [\n",
    "    {\"role\": \"user\", \"content\": \"Hi\"},\n",
    "    {\"role\": \"assistant\", \"content\": \"Hi there! How can I assist you today?\"},\n",
    "    {\"role\": \"user\", \"content\": \"What is the latest version of Streamlit?\"},\n",
    "]\n",
    "messages = [HumanMessage(content=m[\"content\"]) if m[\"role\"] == \"user\" else AIMessage(content=m[\"content\"]) for m in messages]\n",
    "\n",
    "conversation_rag_chain = get_conversational_rag_chain(llm_stream)\n",
    "response_message = \"*(RAG Response)*\\n\"\n",
    "for chunk in conversation_rag_chain.pick(\"answer\").stream({\"messages\": messages[:-1], \"input\": messages[-1].content}):\n",
    "    response_message += chunk\n",
    "    print(chunk, end=\"\", flush=True)\n",
    "\n",
    "messages.append({\"role\": \"assistant\", \"content\": response_message})"
   ]
  },
  {
   "cell_type": "code",
   "execution_count": null,
   "metadata": {},
   "outputs": [],
   "source": []
  },
  {
   "cell_type": "code",
   "execution_count": 12,
   "metadata": {},
   "outputs": [
    {
     "name": "stdout",
     "output_type": "stream",
     "text": [
      "Certainly! Microsoft Azure is a cloud computing platform and service created by Microsoft. It provides a wide range of cloud services, including computing, analytics, storage, networking, and more. Azure enables businesses and developers to build, deploy, and manage applications and services through Microsoft-managed data centers located around the globe.\n",
      "\n",
      "Here are some key aspects of Azure:\n",
      "\n",
      "### 1. **Core Services**\n",
      "Azure offers a broad spectrum of services, categorized into several domains:\n",
      "   - **Compute**: Virtual machines (VMs), containers, and serverless computing (Azure Functions).\n",
      "   - **Storage**: Scalable storage solutions like Blob Storage, Disk Storage, and Data Lake.\n",
      "   - **Networking**: Virtual networks, load balancers, VPN gateways, and Azure CDN.\n",
      "   - **Databases**: Managed database services like Azure SQL Database, Cosmos DB, and PostgreSQL.\n",
      "   - **AI and Machine Learning**: Tools like Azure Machine Learning, Cognitive Services, and Bot Service.\n",
      "   - **Analytics**: Services like Azure Synapse Analytics, Data Factory, and HDInsight for big data processing.\n",
      "   - **DevOps**: Azure DevOps for CI/CD pipelines and Azure Monitor for application monitoring.\n",
      "\n",
      "### 2. **Global Presence**\n",
      "Azure has data centers in multiple regions worldwide, enabling businesses to deploy applications closer to their users for better performance and compliance with local regulations. Microsoft continually expands its global footprint.\n",
      "\n",
      "### 3. **Hybrid Cloud**\n",
      "Azure supports hybrid cloud environments, allowing organizations to integrate on-premises infrastructure with Azure services. Tools like Azure Arc enable management of resources across hybrid and multi-cloud setups.\n",
      "\n",
      "### 4. **Security**\n",
      "Azure provides robust security features, including:\n",
      "   - **Azure Security Center**: Centralized security management and threat detection.\n",
      "   - **Azure Active Directory (AAD)**: Identity and access management for users and applications.\n",
      "   - **Compliance**: Azure meets various industry standards and regulations, such as GDPR, HIPAA, and ISO certifications.\n",
      "\n",
      "### 5. **Scalability and Flexibility**\n",
      "Azure allows businesses to scale resources up or down based on demand, ensuring cost efficiency and performance optimization. It supports various programming languages, frameworks, and operating systems, making it highly versatile.\n",
      "\n",
      "### 6. **Pricing**\n",
      "Azure operates on a pay-as-you-go model, meaning customers only pay for the resources they use. It also offers free tiers and trial credits for new users to explore its services.\n",
      "\n",
      "### 7. **Popular Use Cases**\n",
      "   - Hosting websites and web applications.\n",
      "   - Running virtual machines and containers.\n",
      "   - Building AI-powered applications.\n",
      "   - Data storage and backup solutions.\n",
      "   - IoT (Internet of Things) applications.\n",
      "   - Disaster recovery and business continuity.\n",
      "\n",
      "### 8. **Integration with Microsoft Ecosystem**\n",
      "Azure integrates seamlessly with other Microsoft products like Office 365, Dynamics 365, and Power Platform, making it a natural choice for organizations already using Microsoft tools.\n",
      "\n",
      "### 9. **Competitors**\n",
      "Azure competes with other major cloud providers like Amazon Web Services (AWS), Google Cloud Platform (GCP), and IBM Cloud. Each platform has its own strengths and unique offerings.\n",
      "\n",
      "### 10. **Learning Resources**\n",
      "Microsoft provides extensive documentation, tutorials, certifications, and training programs for Azure. Popular certifications include:\n",
      "   - Azure Fundamentals (AZ-900)\n",
      "   - Azure Administrator Associate (AZ-104)\n",
      "   - Azure Solutions Architect Expert (AZ-305)\n",
      "\n",
      "Azure is widely used across industries, from startups to enterprises, due to its scalability, reliability, and comprehensive suite of services. Whether you're looking to host a simple website or build complex AI-driven applications, Azure has tools to support your needs!"
     ]
    }
   ],
   "source": [
    "import os\n",
    "from langchain_openai import AzureChatOpenAI\n",
    "import dotenv\n",
    "\n",
    "dotenv.load_dotenv()\n",
    "\n",
    "llm_stream = AzureChatOpenAI(\n",
    "    azure_endpoint=os.getenv(\"AZ_OPENAI_ENDPOINT\"),\n",
    "    openai_api_version=\"2024-02-15-preview\",\n",
    "    model_name=\"gpt-4o\",\n",
    "    openai_api_key=os.getenv(\"AZ_OPENAI_API_KEY\"),\n",
    "    openai_api_type=\"azure\",\n",
    "    temperature=0.3,\n",
    "    streaming=True,\n",
    ")\n",
    "\n",
    "prompt = \"Tell me something about Azure\"\n",
    "\n",
    "for chunk in llm_stream.stream(prompt):\n",
    "    print(chunk.content, end=\"\", flush=True)"
   ]
  }
 ],
 "metadata": {
  "kernelspec": {
   "display_name": ".venv",
   "language": "python",
   "name": "python3"
  },
  "language_info": {
   "codemirror_mode": {
    "name": "ipython",
    "version": 3
   },
   "file_extension": ".py",
   "mimetype": "text/x-python",
   "name": "python",
   "nbconvert_exporter": "python",
   "pygments_lexer": "ipython3",
   "version": "3.11.11"
  }
 },
 "nbformat": 4,
 "nbformat_minor": 2
}
